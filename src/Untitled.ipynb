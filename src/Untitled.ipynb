{
 "cells": [
  {
   "cell_type": "code",
   "execution_count": 32,
   "metadata": {},
   "outputs": [],
   "source": [
    "data=defaultdict(list)\n",
    "with open('givens.txt') as f:\n",
    "    for x in f:\n",
    "        chapter,section = x.split('/')\n",
    "        if 'given' in section[:-1]:\n",
    "            data[chapter].append(section[:-1])\n",
    "        \n",
    "        "
   ]
  },
  {
   "cell_type": "code",
   "execution_count": 33,
   "metadata": {},
   "outputs": [],
   "source": [
    "from collections import defaultdict"
   ]
  },
  {
   "cell_type": "code",
   "execution_count": 34,
   "metadata": {},
   "outputs": [
    {
     "data": {
      "text/plain": [
       "defaultdict(list,\n",
       "            {'Chapter10': ['Ch10.1a.given.pdf',\n",
       "              'Ch10.1b.given.pdf',\n",
       "              'Ch10.1c.given.pdf',\n",
       "              'Ch10.2.given.pdf',\n",
       "              'Ch10.3.given.pdf',\n",
       "              'Ch10.4.given.pdf',\n",
       "              'Ch10.5.given.pdf',\n",
       "              'FibSumsOfSquares.given.pdf',\n",
       "              'nthFibonacci.given.pdf',\n",
       "              'RedBluePtsProblem.given.pdf'],\n",
       "             'Chapter11': ['Ch11.1.given.pdf',\n",
       "              'Ch11.2.given.pdf',\n",
       "              'Ch11.3a.given.pdf',\n",
       "              'Ch11.3b.given.pdf',\n",
       "              'Ch11.4.given.pdf',\n",
       "              'Ch11.5.given.pdf',\n",
       "              'Ch11.6.given.pdf'],\n",
       "             'Chapter12': ['Ch12.1a.given.pdf',\n",
       "              'Ch12.1b.given.pdf',\n",
       "              'Ch12.2a.given.pdf',\n",
       "              'Ch12.2b.given.pdf',\n",
       "              'Ch12.3.given.pdf',\n",
       "              'Ch12.4.given.pdf',\n",
       "              'Ch12.5a.given.pdf',\n",
       "              'Ch12.5b.given.pdf',\n",
       "              'Ch12.6.given.pdf',\n",
       "              'Problem12.2.10.given.pdf'],\n",
       "             'Chapter1': ['Ch1.1a.given.pdf',\n",
       "              'Ch1.1b.given.pdf',\n",
       "              'Ch1.2.given.pdf',\n",
       "              'Ch1.3a.given.pdf',\n",
       "              'Ch1.3b.given.pdf',\n",
       "              'Ch1.3c.given.pdf',\n",
       "              'Ch1.3d.given.pdf',\n",
       "              'Ch1.4.given.pdf',\n",
       "              'Ch1.5.given.pdf',\n",
       "              'Ch1.6.given.pdf',\n",
       "              'Ch1.7.given.pdf',\n",
       "              'Ch1.8.given.pdf'],\n",
       "             'Chapter2': ['Ch2.10.given.pdf',\n",
       "              'Ch2.11.given.pdf',\n",
       "              'Ch2.1.given.pdf',\n",
       "              'Ch2.2.given.pdf',\n",
       "              'Ch2.3a.given.pdf',\n",
       "              'Ch2.3b.given.pdf',\n",
       "              'Ch2.4.given.pdf',\n",
       "              'Ch2.5.given.pdf',\n",
       "              'Ch2.6.given.pdf',\n",
       "              'Ch2.7a.given.pdf',\n",
       "              'Ch2.7b.given.pdf',\n",
       "              'Ch2.8.given.pdf',\n",
       "              'Ch2.9.given.pdf'],\n",
       "             'Chapter3': ['Ch3.1a.given.pdf',\n",
       "              'Ch3.1b.given.pdf',\n",
       "              'Ch3.1c.given.pdf',\n",
       "              'Ch3.2.Example5Redo.given.pdf',\n",
       "              'Ch3.2.given.pdf',\n",
       "              'Ch3.3.given.pdf',\n",
       "              'Ch3.4.given.pdf',\n",
       "              'Ch3.5.given.pdf'],\n",
       "             'Chapter4': ['Ch4.1.given.pdf',\n",
       "              'Ch4.2.given.pdf',\n",
       "              'Ch4.3a.given.pdf',\n",
       "              'Ch4.3b.given.pdf',\n",
       "              'Ch4.3c.given.pdf',\n",
       "              'Ch4.3d.given.pdf',\n",
       "              'Ch4.3e.given.pdf',\n",
       "              'Ch4.4.given.pdf'],\n",
       "             'Chapter5': ['Ch5.1.given.pdf',\n",
       "              'Ch5.2a.given.pdf',\n",
       "              'Ch5.2b.given.pdf'],\n",
       "             'Chapter6': ['Ch6.1a.given.pdf', 'Ch6.1b.given.pdf'],\n",
       "             'Chapter7': ['Ch7.1.given.pdf',\n",
       "              'Ch7.3a.given.pdf',\n",
       "              'Ch7.3b.given.pdf',\n",
       "              'Ch7.3c.given.pdf',\n",
       "              'Ch7.3d.given.pdf',\n",
       "              'Ch7.4.given.pdf'],\n",
       "             'Chapter8': ['Ch8.1.given.pdf',\n",
       "              'Ch8.2.given.pdf',\n",
       "              'Ch8.3.given.pdf'],\n",
       "             'Chapter9': ['Ch9.1a.given.pdf',\n",
       "              'Ch9.1bc.given.pdf',\n",
       "              'Ch9.2-3.given.pdf']})"
      ]
     },
     "execution_count": 34,
     "metadata": {},
     "output_type": "execute_result"
    }
   ],
   "source": [
    "data"
   ]
  },
  {
   "cell_type": "code",
   "execution_count": 35,
   "metadata": {},
   "outputs": [],
   "source": [
    "chapters = ['Sets','Logic','Counting','Direct Proof','Contrapositive Proof','Contradiction','Non-Conditional Statements','Set Proofs','Disproofs','Induction','Relations','Functions']"
   ]
  },
  {
   "cell_type": "code",
   "execution_count": 52,
   "metadata": {},
   "outputs": [],
   "source": [
    "with open('markdown.md','w') as f:\n",
    "    for i in range(len(chapters)):\n",
    "        chapter = 'Chapter'+str(i+1)\n",
    "        sections = data[chapter]  \n",
    "        f.write('\\n'+'**'+'Chapter '+str(i+1)+': '+chapters[i]+'**\\n\\n')\n",
    "        for m in sections:\n",
    "            k = m.replace('.given.pdf','')\n",
    "            f.write('- ['+k+'](./notes/'+chapter+'/'+m+')\\n')"
   ]
  },
  {
   "cell_type": "code",
   "execution_count": null,
   "metadata": {},
   "outputs": [],
   "source": []
  }
 ],
 "metadata": {
  "kernelspec": {
   "display_name": "Python 3",
   "language": "python",
   "name": "python3"
  },
  "language_info": {
   "codemirror_mode": {
    "name": "ipython",
    "version": 3
   },
   "file_extension": ".py",
   "mimetype": "text/x-python",
   "name": "python",
   "nbconvert_exporter": "python",
   "pygments_lexer": "ipython3",
   "version": "3.7.7"
  }
 },
 "nbformat": 4,
 "nbformat_minor": 4
}
